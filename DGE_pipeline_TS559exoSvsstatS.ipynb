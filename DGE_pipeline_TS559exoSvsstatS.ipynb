{
 "cells": [
  {
   "cell_type": "markdown",
   "metadata": {},
   "source": [
    "# Differential gene expression pipeline \n",
    "counts are generated using HTSeq \\\n",
    "DGE is calculated using DESeq2"
   ]
  },
  {
   "cell_type": "code",
   "execution_count": 2,
   "metadata": {
    "collapsed": true
   },
   "outputs": [
    {
     "name": "stderr",
     "output_type": "stream",
     "text": [
      "── \u001b[1mAttaching packages\u001b[22m ─────────────────────────────────────── tidyverse 1.2.1 ──\n",
      "\n",
      "\u001b[32m✔\u001b[39m \u001b[34mggplot2\u001b[39m 3.3.0     \u001b[32m✔\u001b[39m \u001b[34mpurrr  \u001b[39m 0.3.3\n",
      "\u001b[32m✔\u001b[39m \u001b[34mtibble \u001b[39m 2.1.3     \u001b[32m✔\u001b[39m \u001b[34mdplyr  \u001b[39m 0.8.5\n",
      "\u001b[32m✔\u001b[39m \u001b[34mtidyr  \u001b[39m 1.0.2     \u001b[32m✔\u001b[39m \u001b[34mstringr\u001b[39m 1.4.0\n",
      "\u001b[32m✔\u001b[39m \u001b[34mreadr  \u001b[39m 1.3.1     \u001b[32m✔\u001b[39m \u001b[34mforcats\u001b[39m 0.5.0\n",
      "\n",
      "── \u001b[1mConflicts\u001b[22m ────────────────────────────────────────── tidyverse_conflicts() ──\n",
      "\u001b[31m✖\u001b[39m \u001b[34mdplyr\u001b[39m::\u001b[32mfilter()\u001b[39m masks \u001b[34mstats\u001b[39m::filter()\n",
      "\u001b[31m✖\u001b[39m \u001b[34mdplyr\u001b[39m::\u001b[32mlag()\u001b[39m    masks \u001b[34mstats\u001b[39m::lag()\n",
      "\n",
      "Warning message:\n",
      "“package ‘DESeq2’ was built under R version 3.6.3”\n",
      "Loading required package: S4Vectors\n",
      "\n",
      "Warning message:\n",
      "“package ‘S4Vectors’ was built under R version 3.6.3”\n",
      "Loading required package: stats4\n",
      "\n",
      "Loading required package: BiocGenerics\n",
      "\n",
      "Warning message:\n",
      "“package ‘BiocGenerics’ was built under R version 3.6.3”\n",
      "Loading required package: parallel\n",
      "\n",
      "\n",
      "Attaching package: ‘BiocGenerics’\n",
      "\n",
      "\n",
      "The following objects are masked from ‘package:parallel’:\n",
      "\n",
      "    clusterApply, clusterApplyLB, clusterCall, clusterEvalQ,\n",
      "    clusterExport, clusterMap, parApply, parCapply, parLapply,\n",
      "    parLapplyLB, parRapply, parSapply, parSapplyLB\n",
      "\n",
      "\n",
      "The following objects are masked from ‘package:dplyr’:\n",
      "\n",
      "    combine, intersect, setdiff, union\n",
      "\n",
      "\n",
      "The following objects are masked from ‘package:stats’:\n",
      "\n",
      "    IQR, mad, sd, var, xtabs\n",
      "\n",
      "\n",
      "The following objects are masked from ‘package:base’:\n",
      "\n",
      "    anyDuplicated, append, as.data.frame, basename, cbind, colnames,\n",
      "    dirname, do.call, duplicated, eval, evalq, Filter, Find, get, grep,\n",
      "    grepl, intersect, is.unsorted, lapply, Map, mapply, match, mget,\n",
      "    order, paste, pmax, pmax.int, pmin, pmin.int, Position, rank,\n",
      "    rbind, Reduce, rownames, sapply, setdiff, sort, table, tapply,\n",
      "    union, unique, unsplit, which, which.max, which.min\n",
      "\n",
      "\n",
      "\n",
      "Attaching package: ‘S4Vectors’\n",
      "\n",
      "\n",
      "The following objects are masked from ‘package:dplyr’:\n",
      "\n",
      "    first, rename\n",
      "\n",
      "\n",
      "The following object is masked from ‘package:tidyr’:\n",
      "\n",
      "    expand\n",
      "\n",
      "\n",
      "The following object is masked from ‘package:base’:\n",
      "\n",
      "    expand.grid\n",
      "\n",
      "\n",
      "Loading required package: IRanges\n",
      "\n",
      "Warning message:\n",
      "“package ‘IRanges’ was built under R version 3.6.3”\n",
      "\n",
      "Attaching package: ‘IRanges’\n",
      "\n",
      "\n",
      "The following objects are masked from ‘package:dplyr’:\n",
      "\n",
      "    collapse, desc, slice\n",
      "\n",
      "\n",
      "The following object is masked from ‘package:purrr’:\n",
      "\n",
      "    reduce\n",
      "\n",
      "\n",
      "Loading required package: GenomicRanges\n",
      "\n",
      "Warning message:\n",
      "“package ‘GenomicRanges’ was built under R version 3.6.3”\n",
      "Loading required package: GenomeInfoDb\n",
      "\n",
      "Warning message:\n",
      "“package ‘GenomeInfoDb’ was built under R version 3.6.3”\n",
      "Loading required package: SummarizedExperiment\n",
      "\n",
      "Warning message:\n",
      "“package ‘SummarizedExperiment’ was built under R version 3.6.3”\n",
      "Loading required package: Biobase\n",
      "\n",
      "Warning message:\n",
      "“package ‘Biobase’ was built under R version 3.6.3”\n",
      "Welcome to Bioconductor\n",
      "\n",
      "    Vignettes contain introductory material; view with\n",
      "    'browseVignettes()'. To cite Bioconductor, see\n",
      "    'citation(\"Biobase\")', and for packages 'citation(\"pkgname\")'.\n",
      "\n",
      "\n",
      "Loading required package: DelayedArray\n",
      "\n",
      "Warning message:\n",
      "“package ‘DelayedArray’ was built under R version 3.6.3”\n",
      "Loading required package: matrixStats\n",
      "\n",
      "Warning message:\n",
      "“package ‘matrixStats’ was built under R version 3.6.3”\n",
      "\n",
      "Attaching package: ‘matrixStats’\n",
      "\n",
      "\n",
      "The following objects are masked from ‘package:Biobase’:\n",
      "\n",
      "    anyMissing, rowMedians\n",
      "\n",
      "\n",
      "The following object is masked from ‘package:dplyr’:\n",
      "\n",
      "    count\n",
      "\n",
      "\n",
      "Loading required package: BiocParallel\n",
      "\n",
      "Warning message:\n",
      "“package ‘BiocParallel’ was built under R version 3.6.3”\n",
      "\n",
      "Attaching package: ‘DelayedArray’\n",
      "\n",
      "\n",
      "The following objects are masked from ‘package:matrixStats’:\n",
      "\n",
      "    colMaxs, colMins, colRanges, rowMaxs, rowMins, rowRanges\n",
      "\n",
      "\n",
      "The following object is masked from ‘package:purrr’:\n",
      "\n",
      "    simplify\n",
      "\n",
      "\n",
      "The following objects are masked from ‘package:base’:\n",
      "\n",
      "    aperm, apply, rowsum\n",
      "\n",
      "\n"
     ]
    }
   ],
   "source": [
    "# just through a couple hoops to load tidyverse and DESeq2\n",
    "\n",
    ".libPaths('/anaconda3/lib/R/library')\n",
    "library(tidyverse)\n",
    "\n",
    "\n",
    ".libPaths('/home/kristin/R/x86_64-pc-linux-gnu-library/3.6/')\n",
    "library(DESeq2)"
   ]
  },
  {
   "cell_type": "markdown",
   "metadata": {},
   "source": [
    "### TS559 exoS vs statS\n",
    "we have two replicates for both exponential and stationary growth phases, so we will prototype pipeline using these samples. "
   ]
  },
  {
   "cell_type": "code",
   "execution_count": 4,
   "metadata": {
    "collapsed": true
   },
   "outputs": [
    {
     "name": "stderr",
     "output_type": "stream",
     "text": [
      "Parsed with column specification:\n",
      "cols(\n",
      "  gene_id = \u001b[31mcol_character()\u001b[39m,\n",
      "  exoS_dec = \u001b[32mcol_double()\u001b[39m\n",
      ")\n",
      "\n",
      "Parsed with column specification:\n",
      "cols(\n",
      "  gene_id = \u001b[31mcol_character()\u001b[39m,\n",
      "  exoS_march = \u001b[32mcol_double()\u001b[39m\n",
      ")\n",
      "\n",
      "Parsed with column specification:\n",
      "cols(\n",
      "  gene_id = \u001b[31mcol_character()\u001b[39m,\n",
      "  statS_dec = \u001b[32mcol_double()\u001b[39m\n",
      ")\n",
      "\n",
      "Parsed with column specification:\n",
      "cols(\n",
      "  gene_id = \u001b[31mcol_character()\u001b[39m,\n",
      "  statS_march = \u001b[32mcol_double()\u001b[39m\n",
      ")\n",
      "\n"
     ]
    }
   ],
   "source": [
    "# load counts generated from HTSeq\n",
    "\n",
    "exoS_dec <- read_delim('../raw_data/TS559exoS_dec_counts', delim='\\t',col_names=c(\"gene_id\", \"exoS_dec\"))\n",
    "exoS_march <- read_delim('../raw_data/TS559exoS_march_counts', delim='\\t',col_names=c(\"gene_id\", \"exoS_march\"))\n",
    "\n",
    "statS_dec <- read_delim('../raw_data/TS559statS_dec_counts', delim='\\t',col_names=c(\"gene_id\", \"statS_dec\"))\n",
    "statS_march <- read_delim('../raw_data/TS559statS_march_counts', delim='\\t',col_names=c(\"gene_id\", \"statS_march\"))"
   ]
  },
  {
   "cell_type": "code",
   "execution_count": 5,
   "metadata": {},
   "outputs": [
    {
     "data": {
      "text/html": [
       "<table>\n",
       "<caption>A data.frame: 6 × 5</caption>\n",
       "<thead>\n",
       "\t<tr><th></th><th scope=col>gene_id</th><th scope=col>exoS_dec</th><th scope=col>exoS_march</th><th scope=col>statS_dec</th><th scope=col>statS_march</th></tr>\n",
       "\t<tr><th></th><th scope=col>&lt;chr&gt;</th><th scope=col>&lt;dbl&gt;</th><th scope=col>&lt;dbl&gt;</th><th scope=col>&lt;dbl&gt;</th><th scope=col>&lt;dbl&gt;</th></tr>\n",
       "</thead>\n",
       "<tbody>\n",
       "\t<tr><th scope=row>6</th><td>TK0001</td><td>11979</td><td>2116</td><td>13079</td><td>2242</td></tr>\n",
       "\t<tr><th scope=row>7</th><td>TK0002</td><td>  911</td><td> 171</td><td>  837</td><td> 125</td></tr>\n",
       "\t<tr><th scope=row>8</th><td>TK0003</td><td>  172</td><td>  32</td><td>  182</td><td>  19</td></tr>\n",
       "\t<tr><th scope=row>9</th><td>TK0004</td><td> 1872</td><td> 314</td><td> 1150</td><td> 275</td></tr>\n",
       "\t<tr><th scope=row>10</th><td>TK0005</td><td>  972</td><td> 293</td><td>  699</td><td> 178</td></tr>\n",
       "\t<tr><th scope=row>11</th><td>TK0006</td><td> 1353</td><td> 274</td><td>  988</td><td> 164</td></tr>\n",
       "</tbody>\n",
       "</table>\n"
      ],
      "text/latex": [
       "A data.frame: 6 × 5\n",
       "\\begin{tabular}{r|lllll}\n",
       "  & gene\\_id & exoS\\_dec & exoS\\_march & statS\\_dec & statS\\_march\\\\\n",
       "  & <chr> & <dbl> & <dbl> & <dbl> & <dbl>\\\\\n",
       "\\hline\n",
       "\t6 & TK0001 & 11979 & 2116 & 13079 & 2242\\\\\n",
       "\t7 & TK0002 &   911 &  171 &   837 &  125\\\\\n",
       "\t8 & TK0003 &   172 &   32 &   182 &   19\\\\\n",
       "\t9 & TK0004 &  1872 &  314 &  1150 &  275\\\\\n",
       "\t10 & TK0005 &   972 &  293 &   699 &  178\\\\\n",
       "\t11 & TK0006 &  1353 &  274 &   988 &  164\\\\\n",
       "\\end{tabular}\n"
      ],
      "text/markdown": [
       "\n",
       "A data.frame: 6 × 5\n",
       "\n",
       "| <!--/--> | gene_id &lt;chr&gt; | exoS_dec &lt;dbl&gt; | exoS_march &lt;dbl&gt; | statS_dec &lt;dbl&gt; | statS_march &lt;dbl&gt; |\n",
       "|---|---|---|---|---|---|\n",
       "| 6 | TK0001 | 11979 | 2116 | 13079 | 2242 |\n",
       "| 7 | TK0002 |   911 |  171 |   837 |  125 |\n",
       "| 8 | TK0003 |   172 |   32 |   182 |   19 |\n",
       "| 9 | TK0004 |  1872 |  314 |  1150 |  275 |\n",
       "| 10 | TK0005 |   972 |  293 |   699 |  178 |\n",
       "| 11 | TK0006 |  1353 |  274 |   988 |  164 |\n",
       "\n"
      ],
      "text/plain": [
       "   gene_id exoS_dec exoS_march statS_dec statS_march\n",
       "6  TK0001  11979    2116       13079     2242       \n",
       "7  TK0002    911     171         837      125       \n",
       "8  TK0003    172      32         182       19       \n",
       "9  TK0004   1872     314        1150      275       \n",
       "10 TK0005    972     293         699      178       \n",
       "11 TK0006   1353     274         988      164       "
      ]
     },
     "metadata": {},
     "output_type": "display_data"
    },
    {
     "data": {
      "text/html": [
       "<table>\n",
       "<caption>A data.frame: 6 × 5</caption>\n",
       "<thead>\n",
       "\t<tr><th></th><th scope=col>gene_id</th><th scope=col>exoS_dec</th><th scope=col>exoS_march</th><th scope=col>statS_dec</th><th scope=col>statS_march</th></tr>\n",
       "\t<tr><th></th><th scope=col>&lt;chr&gt;</th><th scope=col>&lt;dbl&gt;</th><th scope=col>&lt;dbl&gt;</th><th scope=col>&lt;dbl&gt;</th><th scope=col>&lt;dbl&gt;</th></tr>\n",
       "</thead>\n",
       "<tbody>\n",
       "\t<tr><th scope=row>2304</th><td>TK2301</td><td> 1322</td><td> 175</td><td> 853</td><td> 273</td></tr>\n",
       "\t<tr><th scope=row>2305</th><td>TK2302</td><td> 3102</td><td> 443</td><td>1700</td><td> 367</td></tr>\n",
       "\t<tr><th scope=row>2306</th><td>TK2303</td><td> 5535</td><td> 274</td><td>3682</td><td>6766</td></tr>\n",
       "\t<tr><th scope=row>2307</th><td>TK2304</td><td>11159</td><td>1749</td><td>4616</td><td>1116</td></tr>\n",
       "\t<tr><th scope=row>2308</th><td>TK2305</td><td>  169</td><td>  50</td><td> 202</td><td>  44</td></tr>\n",
       "\t<tr><th scope=row>2309</th><td>TK2306</td><td>  492</td><td> 114</td><td> 467</td><td>  94</td></tr>\n",
       "</tbody>\n",
       "</table>\n"
      ],
      "text/latex": [
       "A data.frame: 6 × 5\n",
       "\\begin{tabular}{r|lllll}\n",
       "  & gene\\_id & exoS\\_dec & exoS\\_march & statS\\_dec & statS\\_march\\\\\n",
       "  & <chr> & <dbl> & <dbl> & <dbl> & <dbl>\\\\\n",
       "\\hline\n",
       "\t2304 & TK2301 &  1322 &  175 &  853 &  273\\\\\n",
       "\t2305 & TK2302 &  3102 &  443 & 1700 &  367\\\\\n",
       "\t2306 & TK2303 &  5535 &  274 & 3682 & 6766\\\\\n",
       "\t2307 & TK2304 & 11159 & 1749 & 4616 & 1116\\\\\n",
       "\t2308 & TK2305 &   169 &   50 &  202 &   44\\\\\n",
       "\t2309 & TK2306 &   492 &  114 &  467 &   94\\\\\n",
       "\\end{tabular}\n"
      ],
      "text/markdown": [
       "\n",
       "A data.frame: 6 × 5\n",
       "\n",
       "| <!--/--> | gene_id &lt;chr&gt; | exoS_dec &lt;dbl&gt; | exoS_march &lt;dbl&gt; | statS_dec &lt;dbl&gt; | statS_march &lt;dbl&gt; |\n",
       "|---|---|---|---|---|---|\n",
       "| 2304 | TK2301 |  1322 |  175 |  853 |  273 |\n",
       "| 2305 | TK2302 |  3102 |  443 | 1700 |  367 |\n",
       "| 2306 | TK2303 |  5535 |  274 | 3682 | 6766 |\n",
       "| 2307 | TK2304 | 11159 | 1749 | 4616 | 1116 |\n",
       "| 2308 | TK2305 |   169 |   50 |  202 |   44 |\n",
       "| 2309 | TK2306 |   492 |  114 |  467 |   94 |\n",
       "\n"
      ],
      "text/plain": [
       "     gene_id exoS_dec exoS_march statS_dec statS_march\n",
       "2304 TK2301   1322     175        853       273       \n",
       "2305 TK2302   3102     443       1700       367       \n",
       "2306 TK2303   5535     274       3682      6766       \n",
       "2307 TK2304  11159    1749       4616      1116       \n",
       "2308 TK2305    169      50        202        44       \n",
       "2309 TK2306    492     114        467        94       "
      ]
     },
     "metadata": {},
     "output_type": "display_data"
    }
   ],
   "source": [
    "# create count matrix\n",
    "\n",
    "matrix <- exoS_dec %>% \n",
    "    merge(exoS_march, all=TRUE, by = \"gene_id\") %>% \n",
    "    merge(statS_dec, all=TRUE, by = \"gene_id\") %>% \n",
    "    merge(statS_march, all=TRUE, by = \"gene_id\") %>%\n",
    "    arrange(gene_id)\n",
    "\n",
    "countData <- matrix[6:nrow(matrix),]\n",
    "\n",
    "head(countData)\n",
    "tail(countData)"
   ]
  },
  {
   "cell_type": "code",
   "execution_count": 43,
   "metadata": {},
   "outputs": [
    {
     "data": {
      "text/html": [
       "<table>\n",
       "<caption>A data.frame: 4 × 3</caption>\n",
       "<thead>\n",
       "\t<tr><th scope=col>sample_name</th><th scope=col>sample_type</th><th scope=col>celltype</th></tr>\n",
       "\t<tr><th scope=col>&lt;fct&gt;</th><th scope=col>&lt;fct&gt;</th><th scope=col>&lt;chr&gt;</th></tr>\n",
       "</thead>\n",
       "<tbody>\n",
       "\t<tr><td>exoS_dec   </td><td>exoS </td><td>TS559</td></tr>\n",
       "\t<tr><td>exoS_march </td><td>exoS </td><td>TS559</td></tr>\n",
       "\t<tr><td>statS_dec  </td><td>statS</td><td>TS559</td></tr>\n",
       "\t<tr><td>statS_march</td><td>statS</td><td>TS559</td></tr>\n",
       "</tbody>\n",
       "</table>\n"
      ],
      "text/latex": [
       "A data.frame: 4 × 3\n",
       "\\begin{tabular}{lll}\n",
       " sample\\_name & sample\\_type & celltype\\\\\n",
       " <fct> & <fct> & <chr>\\\\\n",
       "\\hline\n",
       "\t exoS\\_dec    & exoS  & TS559\\\\\n",
       "\t exoS\\_march  & exoS  & TS559\\\\\n",
       "\t statS\\_dec   & statS & TS559\\\\\n",
       "\t statS\\_march & statS & TS559\\\\\n",
       "\\end{tabular}\n"
      ],
      "text/markdown": [
       "\n",
       "A data.frame: 4 × 3\n",
       "\n",
       "| sample_name &lt;fct&gt; | sample_type &lt;fct&gt; | celltype &lt;chr&gt; |\n",
       "|---|---|---|\n",
       "| exoS_dec    | exoS  | TS559 |\n",
       "| exoS_march  | exoS  | TS559 |\n",
       "| statS_dec   | statS | TS559 |\n",
       "| statS_march | statS | TS559 |\n",
       "\n"
      ],
      "text/plain": [
       "  sample_name sample_type celltype\n",
       "1 exoS_dec    exoS        TS559   \n",
       "2 exoS_march  exoS        TS559   \n",
       "3 statS_dec   statS       TS559   \n",
       "4 statS_march statS       TS559   "
      ]
     },
     "metadata": {},
     "output_type": "display_data"
    }
   ],
   "source": [
    "# create metadata\n",
    "\n",
    "sample_name <- c(\"exoS_dec\", \"exoS_march\", \"statS_dec\", \"statS_march\")\n",
    "sample_type <- c(\"exoS\", \"exoS\", \"statS\", \"statS\")\n",
    "\n",
    "metaData <- data.frame(sample_name, sample_type) %>% mutate(celltype=\"TS559\")\n",
    "\n",
    "metaData"
   ]
  },
  {
   "cell_type": "code",
   "execution_count": 44,
   "metadata": {
    "scrolled": true
   },
   "outputs": [
    {
     "name": "stderr",
     "output_type": "stream",
     "text": [
      "converting counts to integer mode\n",
      "\n"
     ]
    }
   ],
   "source": [
    "# create object of DGE\n",
    "\n",
    "dds <- DESeqDataSetFromMatrix(countData=countData, \n",
    "                              colData=metaData, \n",
    "                              design=~sample_type, tidy = TRUE)\n"
   ]
  },
  {
   "cell_type": "code",
   "execution_count": 45,
   "metadata": {},
   "outputs": [
    {
     "name": "stderr",
     "output_type": "stream",
     "text": [
      "estimating size factors\n",
      "\n",
      "estimating dispersions\n",
      "\n",
      "gene-wise dispersion estimates\n",
      "\n",
      "mean-dispersion relationship\n",
      "\n",
      "final dispersion estimates\n",
      "\n",
      "fitting model and testing\n",
      "\n"
     ]
    }
   ],
   "source": [
    "# calculate differential gene expression (dge)\n",
    "\n",
    "dge <- DESeq(dds)"
   ]
  },
  {
   "cell_type": "code",
   "execution_count": 46,
   "metadata": {},
   "outputs": [
    {
     "name": "stdout",
     "output_type": "stream",
     "text": [
      "\n",
      "out of 2292 with nonzero total read count\n",
      "adjusted p-value < 0.1\n",
      "LFC > 0 (up)       : 240, 10%\n",
      "LFC < 0 (down)     : 64, 2.8%\n",
      "outliers [1]       : 0, 0%\n",
      "low counts [2]     : 89, 3.9%\n",
      "(mean count < 14)\n",
      "[1] see 'cooksCutoff' argument of ?results\n",
      "[2] see 'independentFiltering' argument of ?results\n",
      "\n"
     ]
    },
    {
     "data": {
      "text/html": [
       "<table>\n",
       "<caption>A data.frame: 6 × 7</caption>\n",
       "<thead>\n",
       "\t<tr><th></th><th scope=col>row</th><th scope=col>baseMean</th><th scope=col>log2FoldChange</th><th scope=col>lfcSE</th><th scope=col>stat</th><th scope=col>pvalue</th><th scope=col>padj</th></tr>\n",
       "\t<tr><th></th><th scope=col>&lt;chr&gt;</th><th scope=col>&lt;dbl&gt;</th><th scope=col>&lt;dbl&gt;</th><th scope=col>&lt;dbl&gt;</th><th scope=col>&lt;dbl&gt;</th><th scope=col>&lt;dbl&gt;</th><th scope=col>&lt;dbl&gt;</th></tr>\n",
       "</thead>\n",
       "<tbody>\n",
       "\t<tr><th scope=row>1</th><td>TK0001</td><td>5242.86351</td><td> 0.2535372</td><td>0.4318480</td><td> 0.5870982</td><td>0.5571378</td><td>0.8823736</td></tr>\n",
       "\t<tr><th scope=row>2</th><td>TK0002</td><td> 359.59625</td><td>-0.1174353</td><td>0.4796616</td><td>-0.2448295</td><td>0.8065885</td><td>0.9655149</td></tr>\n",
       "\t<tr><th scope=row>3</th><td>TK0003</td><td>  68.06794</td><td>-0.0694228</td><td>0.6474560</td><td>-0.1072240</td><td>0.9146113</td><td>0.9899801</td></tr>\n",
       "\t<tr><th scope=row>4</th><td>TK0004</td><td> 658.89857</td><td>-0.3099270</td><td>0.4460632</td><td>-0.6948051</td><td>0.4871774</td><td>0.8326323</td></tr>\n",
       "\t<tr><th scope=row>5</th><td>TK0005</td><td> 446.77107</td><td>-0.4971459</td><td>0.4893297</td><td>-1.0159734</td><td>0.3096421</td><td>0.6918271</td></tr>\n",
       "\t<tr><th scope=row>6</th><td>TK0006</td><td> 502.03245</td><td>-0.4429453</td><td>0.4620374</td><td>-0.9586783</td><td>0.3377208</td><td>0.7238716</td></tr>\n",
       "</tbody>\n",
       "</table>\n"
      ],
      "text/latex": [
       "A data.frame: 6 × 7\n",
       "\\begin{tabular}{r|lllllll}\n",
       "  & row & baseMean & log2FoldChange & lfcSE & stat & pvalue & padj\\\\\n",
       "  & <chr> & <dbl> & <dbl> & <dbl> & <dbl> & <dbl> & <dbl>\\\\\n",
       "\\hline\n",
       "\t1 & TK0001 & 5242.86351 &  0.2535372 & 0.4318480 &  0.5870982 & 0.5571378 & 0.8823736\\\\\n",
       "\t2 & TK0002 &  359.59625 & -0.1174353 & 0.4796616 & -0.2448295 & 0.8065885 & 0.9655149\\\\\n",
       "\t3 & TK0003 &   68.06794 & -0.0694228 & 0.6474560 & -0.1072240 & 0.9146113 & 0.9899801\\\\\n",
       "\t4 & TK0004 &  658.89857 & -0.3099270 & 0.4460632 & -0.6948051 & 0.4871774 & 0.8326323\\\\\n",
       "\t5 & TK0005 &  446.77107 & -0.4971459 & 0.4893297 & -1.0159734 & 0.3096421 & 0.6918271\\\\\n",
       "\t6 & TK0006 &  502.03245 & -0.4429453 & 0.4620374 & -0.9586783 & 0.3377208 & 0.7238716\\\\\n",
       "\\end{tabular}\n"
      ],
      "text/markdown": [
       "\n",
       "A data.frame: 6 × 7\n",
       "\n",
       "| <!--/--> | row &lt;chr&gt; | baseMean &lt;dbl&gt; | log2FoldChange &lt;dbl&gt; | lfcSE &lt;dbl&gt; | stat &lt;dbl&gt; | pvalue &lt;dbl&gt; | padj &lt;dbl&gt; |\n",
       "|---|---|---|---|---|---|---|---|\n",
       "| 1 | TK0001 | 5242.86351 |  0.2535372 | 0.4318480 |  0.5870982 | 0.5571378 | 0.8823736 |\n",
       "| 2 | TK0002 |  359.59625 | -0.1174353 | 0.4796616 | -0.2448295 | 0.8065885 | 0.9655149 |\n",
       "| 3 | TK0003 |   68.06794 | -0.0694228 | 0.6474560 | -0.1072240 | 0.9146113 | 0.9899801 |\n",
       "| 4 | TK0004 |  658.89857 | -0.3099270 | 0.4460632 | -0.6948051 | 0.4871774 | 0.8326323 |\n",
       "| 5 | TK0005 |  446.77107 | -0.4971459 | 0.4893297 | -1.0159734 | 0.3096421 | 0.6918271 |\n",
       "| 6 | TK0006 |  502.03245 | -0.4429453 | 0.4620374 | -0.9586783 | 0.3377208 | 0.7238716 |\n",
       "\n"
      ],
      "text/plain": [
       "  row    baseMean   log2FoldChange lfcSE     stat       pvalue    padj     \n",
       "1 TK0001 5242.86351  0.2535372     0.4318480  0.5870982 0.5571378 0.8823736\n",
       "2 TK0002  359.59625 -0.1174353     0.4796616 -0.2448295 0.8065885 0.9655149\n",
       "3 TK0003   68.06794 -0.0694228     0.6474560 -0.1072240 0.9146113 0.9899801\n",
       "4 TK0004  658.89857 -0.3099270     0.4460632 -0.6948051 0.4871774 0.8326323\n",
       "5 TK0005  446.77107 -0.4971459     0.4893297 -1.0159734 0.3096421 0.6918271\n",
       "6 TK0006  502.03245 -0.4429453     0.4620374 -0.9586783 0.3377208 0.7238716"
      ]
     },
     "metadata": {},
     "output_type": "display_data"
    }
   ],
   "source": [
    "# Look at data results (dge_results)\n",
    "\n",
    "dge_results <- results(dge)\n",
    "summary(dge_results)\n",
    "\n",
    "head(results(dge, tidy=TRUE))"
   ]
  },
  {
   "cell_type": "code",
   "execution_count": 47,
   "metadata": {},
   "outputs": [
    {
     "data": {
      "image/png": "[encoded data removed]",
      "text/plain": [
       "Plot with title “TK0004”"
      ]
     },
     "metadata": {
      "image/png": {
       "height": 420,
       "width": 420
      },
      "text/plain": {
       "height": 420,
       "width": 420
      }
     },
     "output_type": "display_data"
    }
   ],
   "source": [
    "# if you want to see normalized read counts for specified genes\n",
    "par(mfrow=c(2,2))\n",
    "\n",
    "plotCounts(dge, gene=\"TK0001\", intgroup=\"sample_type\")\n",
    "plotCounts(dge, gene=\"TK0002\", intgroup=\"sample_type\")\n",
    "plotCounts(dge, gene=\"TK0003\", intgroup=\"sample_type\")\n",
    "plotCounts(dge, gene=\"TK0004\", intgroup=\"sample_type\")"
   ]
  },
  {
   "cell_type": "code",
   "execution_count": 48,
   "metadata": {},
   "outputs": [
    {
     "data": {
      "image/png": "[encoded data removed]",
      "text/plain": [
       "Plot with title “exoS vs statS”"
      ]
     },
     "metadata": {
      "image/png": {
       "height": 420,
       "width": 420
      },
      "text/plain": {
       "height": 420,
       "width": 420
      }
     },
     "output_type": "display_data"
    }
   ],
   "source": [
    "# volcano plot\n",
    "\n",
    "#reset par\n",
    "par(mfrow=c(1,1))\n",
    "# Make a basic volcano plot\n",
    "with(dge_results, plot(log2FoldChange, -log10(pvalue), \n",
    "                       pch=20, main=\"exoS vs statS\" \n",
    "                       ))\n",
    "\n",
    "# Add colored points: blue if padj<0.05, red if absolute value of log2FC>1 and padj<0.01)\n",
    "with(subset(dge_results, padj<.05 ), points(log2FoldChange, -log10(pvalue), pch=20, col=\"blue\"))\n",
    "with(subset(dge_results, padj<.05 & abs(log2FoldChange)>2), points(log2FoldChange, -log10(pvalue), pch=20, col=\"red\"))"
   ]
  },
  {
   "cell_type": "code",
   "execution_count": 49,
   "metadata": {},
   "outputs": [
    {
     "name": "stdout",
     "output_type": "stream",
     "text": [
      "[1] \"number of 2xFC differentially expressed genes: 263\"\n",
      "[1] \"down regulated: 48\"\n",
      "[1] \"up regulated: 215\"\n"
     ]
    },
    {
     "data": {
      "text/html": [
       "<table>\n",
       "<caption>A data.frame: 6 × 7</caption>\n",
       "<thead>\n",
       "\t<tr><th></th><th scope=col>row</th><th scope=col>baseMean</th><th scope=col>log2FoldChange</th><th scope=col>lfcSE</th><th scope=col>stat</th><th scope=col>pvalue</th><th scope=col>padj</th></tr>\n",
       "\t<tr><th></th><th scope=col>&lt;chr&gt;</th><th scope=col>&lt;dbl&gt;</th><th scope=col>&lt;dbl&gt;</th><th scope=col>&lt;dbl&gt;</th><th scope=col>&lt;dbl&gt;</th><th scope=col>&lt;dbl&gt;</th><th scope=col>&lt;dbl&gt;</th></tr>\n",
       "</thead>\n",
       "<tbody>\n",
       "\t<tr><th scope=row>1</th><td>TK2298</td><td> 2292.1759</td><td>6.318752</td><td>0.4734312</td><td>13.34672</td><td>1.237834e-40</td><td>2.726949e-37</td></tr>\n",
       "\t<tr><th scope=row>2</th><td>TK2299</td><td>  741.4184</td><td>5.845604</td><td>0.5011771</td><td>11.66375</td><td>1.952523e-31</td><td>2.150705e-28</td></tr>\n",
       "\t<tr><th scope=row>3</th><td>TK0427</td><td> 2118.0270</td><td>5.776949</td><td>0.4980809</td><td>11.59842</td><td>4.197717e-31</td><td>3.082523e-28</td></tr>\n",
       "\t<tr><th scope=row>4</th><td>TK1463</td><td>10706.4538</td><td>4.843508</td><td>0.4325912</td><td>11.19650</td><td>4.241619e-29</td><td>2.336072e-26</td></tr>\n",
       "\t<tr><th scope=row>5</th><td>TK1818</td><td>  958.4343</td><td>6.342055</td><td>0.5851180</td><td>10.83893</td><td>2.250803e-27</td><td>9.917037e-25</td></tr>\n",
       "\t<tr><th scope=row>6</th><td>TK2072</td><td> 4250.1684</td><td>5.385563</td><td>0.5083575</td><td>10.59405</td><td>3.175600e-26</td><td>1.165975e-23</td></tr>\n",
       "</tbody>\n",
       "</table>\n"
      ],
      "text/latex": [
       "A data.frame: 6 × 7\n",
       "\\begin{tabular}{r|lllllll}\n",
       "  & row & baseMean & log2FoldChange & lfcSE & stat & pvalue & padj\\\\\n",
       "  & <chr> & <dbl> & <dbl> & <dbl> & <dbl> & <dbl> & <dbl>\\\\\n",
       "\\hline\n",
       "\t1 & TK2298 &  2292.1759 & 6.318752 & 0.4734312 & 13.34672 & 1.237834e-40 & 2.726949e-37\\\\\n",
       "\t2 & TK2299 &   741.4184 & 5.845604 & 0.5011771 & 11.66375 & 1.952523e-31 & 2.150705e-28\\\\\n",
       "\t3 & TK0427 &  2118.0270 & 5.776949 & 0.4980809 & 11.59842 & 4.197717e-31 & 3.082523e-28\\\\\n",
       "\t4 & TK1463 & 10706.4538 & 4.843508 & 0.4325912 & 11.19650 & 4.241619e-29 & 2.336072e-26\\\\\n",
       "\t5 & TK1818 &   958.4343 & 6.342055 & 0.5851180 & 10.83893 & 2.250803e-27 & 9.917037e-25\\\\\n",
       "\t6 & TK2072 &  4250.1684 & 5.385563 & 0.5083575 & 10.59405 & 3.175600e-26 & 1.165975e-23\\\\\n",
       "\\end{tabular}\n"
      ],
      "text/markdown": [
       "\n",
       "A data.frame: 6 × 7\n",
       "\n",
       "| <!--/--> | row &lt;chr&gt; | baseMean &lt;dbl&gt; | log2FoldChange &lt;dbl&gt; | lfcSE &lt;dbl&gt; | stat &lt;dbl&gt; | pvalue &lt;dbl&gt; | padj &lt;dbl&gt; |\n",
       "|---|---|---|---|---|---|---|---|\n",
       "| 1 | TK2298 |  2292.1759 | 6.318752 | 0.4734312 | 13.34672 | 1.237834e-40 | 2.726949e-37 |\n",
       "| 2 | TK2299 |   741.4184 | 5.845604 | 0.5011771 | 11.66375 | 1.952523e-31 | 2.150705e-28 |\n",
       "| 3 | TK0427 |  2118.0270 | 5.776949 | 0.4980809 | 11.59842 | 4.197717e-31 | 3.082523e-28 |\n",
       "| 4 | TK1463 | 10706.4538 | 4.843508 | 0.4325912 | 11.19650 | 4.241619e-29 | 2.336072e-26 |\n",
       "| 5 | TK1818 |   958.4343 | 6.342055 | 0.5851180 | 10.83893 | 2.250803e-27 | 9.917037e-25 |\n",
       "| 6 | TK2072 |  4250.1684 | 5.385563 | 0.5083575 | 10.59405 | 3.175600e-26 | 1.165975e-23 |\n",
       "\n"
      ],
      "text/plain": [
       "  row    baseMean   log2FoldChange lfcSE     stat     pvalue       padj        \n",
       "1 TK2298  2292.1759 6.318752       0.4734312 13.34672 1.237834e-40 2.726949e-37\n",
       "2 TK2299   741.4184 5.845604       0.5011771 11.66375 1.952523e-31 2.150705e-28\n",
       "3 TK0427  2118.0270 5.776949       0.4980809 11.59842 4.197717e-31 3.082523e-28\n",
       "4 TK1463 10706.4538 4.843508       0.4325912 11.19650 4.241619e-29 2.336072e-26\n",
       "5 TK1818   958.4343 6.342055       0.5851180 10.83893 2.250803e-27 9.917037e-25\n",
       "6 TK2072  4250.1684 5.385563       0.5083575 10.59405 3.175600e-26 1.165975e-23"
      ]
     },
     "metadata": {},
     "output_type": "display_data"
    },
    {
     "name": "stdout",
     "output_type": "stream",
     "text": [
      "[1] \"number of 3xFC differentially expressed genes: 240\"\n"
     ]
    },
    {
     "data": {
      "text/html": [
       "<table>\n",
       "<caption>A data.frame: 6 × 7</caption>\n",
       "<thead>\n",
       "\t<tr><th></th><th scope=col>row</th><th scope=col>baseMean</th><th scope=col>log2FoldChange</th><th scope=col>lfcSE</th><th scope=col>stat</th><th scope=col>pvalue</th><th scope=col>padj</th></tr>\n",
       "\t<tr><th></th><th scope=col>&lt;chr&gt;</th><th scope=col>&lt;dbl&gt;</th><th scope=col>&lt;dbl&gt;</th><th scope=col>&lt;dbl&gt;</th><th scope=col>&lt;dbl&gt;</th><th scope=col>&lt;dbl&gt;</th><th scope=col>&lt;dbl&gt;</th></tr>\n",
       "</thead>\n",
       "<tbody>\n",
       "\t<tr><th scope=row>1</th><td>TK2298</td><td> 2292.1759</td><td>6.318752</td><td>0.4734312</td><td>13.34672</td><td>1.237834e-40</td><td>2.726949e-37</td></tr>\n",
       "\t<tr><th scope=row>2</th><td>TK2299</td><td>  741.4184</td><td>5.845604</td><td>0.5011771</td><td>11.66375</td><td>1.952523e-31</td><td>2.150705e-28</td></tr>\n",
       "\t<tr><th scope=row>3</th><td>TK0427</td><td> 2118.0270</td><td>5.776949</td><td>0.4980809</td><td>11.59842</td><td>4.197717e-31</td><td>3.082523e-28</td></tr>\n",
       "\t<tr><th scope=row>4</th><td>TK1463</td><td>10706.4538</td><td>4.843508</td><td>0.4325912</td><td>11.19650</td><td>4.241619e-29</td><td>2.336072e-26</td></tr>\n",
       "\t<tr><th scope=row>5</th><td>TK1818</td><td>  958.4343</td><td>6.342055</td><td>0.5851180</td><td>10.83893</td><td>2.250803e-27</td><td>9.917037e-25</td></tr>\n",
       "\t<tr><th scope=row>6</th><td>TK2072</td><td> 4250.1684</td><td>5.385563</td><td>0.5083575</td><td>10.59405</td><td>3.175600e-26</td><td>1.165975e-23</td></tr>\n",
       "</tbody>\n",
       "</table>\n"
      ],
      "text/latex": [
       "A data.frame: 6 × 7\n",
       "\\begin{tabular}{r|lllllll}\n",
       "  & row & baseMean & log2FoldChange & lfcSE & stat & pvalue & padj\\\\\n",
       "  & <chr> & <dbl> & <dbl> & <dbl> & <dbl> & <dbl> & <dbl>\\\\\n",
       "\\hline\n",
       "\t1 & TK2298 &  2292.1759 & 6.318752 & 0.4734312 & 13.34672 & 1.237834e-40 & 2.726949e-37\\\\\n",
       "\t2 & TK2299 &   741.4184 & 5.845604 & 0.5011771 & 11.66375 & 1.952523e-31 & 2.150705e-28\\\\\n",
       "\t3 & TK0427 &  2118.0270 & 5.776949 & 0.4980809 & 11.59842 & 4.197717e-31 & 3.082523e-28\\\\\n",
       "\t4 & TK1463 & 10706.4538 & 4.843508 & 0.4325912 & 11.19650 & 4.241619e-29 & 2.336072e-26\\\\\n",
       "\t5 & TK1818 &   958.4343 & 6.342055 & 0.5851180 & 10.83893 & 2.250803e-27 & 9.917037e-25\\\\\n",
       "\t6 & TK2072 &  4250.1684 & 5.385563 & 0.5083575 & 10.59405 & 3.175600e-26 & 1.165975e-23\\\\\n",
       "\\end{tabular}\n"
      ],
      "text/markdown": [
       "\n",
       "A data.frame: 6 × 7\n",
       "\n",
       "| <!--/--> | row &lt;chr&gt; | baseMean &lt;dbl&gt; | log2FoldChange &lt;dbl&gt; | lfcSE &lt;dbl&gt; | stat &lt;dbl&gt; | pvalue &lt;dbl&gt; | padj &lt;dbl&gt; |\n",
       "|---|---|---|---|---|---|---|---|\n",
       "| 1 | TK2298 |  2292.1759 | 6.318752 | 0.4734312 | 13.34672 | 1.237834e-40 | 2.726949e-37 |\n",
       "| 2 | TK2299 |   741.4184 | 5.845604 | 0.5011771 | 11.66375 | 1.952523e-31 | 2.150705e-28 |\n",
       "| 3 | TK0427 |  2118.0270 | 5.776949 | 0.4980809 | 11.59842 | 4.197717e-31 | 3.082523e-28 |\n",
       "| 4 | TK1463 | 10706.4538 | 4.843508 | 0.4325912 | 11.19650 | 4.241619e-29 | 2.336072e-26 |\n",
       "| 5 | TK1818 |   958.4343 | 6.342055 | 0.5851180 | 10.83893 | 2.250803e-27 | 9.917037e-25 |\n",
       "| 6 | TK2072 |  4250.1684 | 5.385563 | 0.5083575 | 10.59405 | 3.175600e-26 | 1.165975e-23 |\n",
       "\n"
      ],
      "text/plain": [
       "  row    baseMean   log2FoldChange lfcSE     stat     pvalue       padj        \n",
       "1 TK2298  2292.1759 6.318752       0.4734312 13.34672 1.237834e-40 2.726949e-37\n",
       "2 TK2299   741.4184 5.845604       0.5011771 11.66375 1.952523e-31 2.150705e-28\n",
       "3 TK0427  2118.0270 5.776949       0.4980809 11.59842 4.197717e-31 3.082523e-28\n",
       "4 TK1463 10706.4538 4.843508       0.4325912 11.19650 4.241619e-29 2.336072e-26\n",
       "5 TK1818   958.4343 6.342055       0.5851180 10.83893 2.250803e-27 9.917037e-25\n",
       "6 TK2072  4250.1684 5.385563       0.5083575 10.59405 3.175600e-26 1.165975e-23"
      ]
     },
     "metadata": {},
     "output_type": "display_data"
    }
   ],
   "source": [
    "# create data matrix of differentially expressed genes\n",
    "\n",
    "results_tidy <- data.frame(results(dge, tidy=TRUE))\n",
    "\n",
    "dge_2xFC_table <- results_tidy %>% \n",
    "    filter(log2FoldChange >= 1 | log2FoldChange <= -1) %>%\n",
    "    filter(padj <= 0.05) %>%\n",
    "    arrange(padj)\n",
    "\n",
    "dge_3xFC_table <- results_tidy %>% \n",
    "    filter(log2FoldChange >= 1.5 | log2FoldChange <= -1.5) %>%\n",
    "    filter(padj <= 0.05) %>%\n",
    "    arrange(padj)\n",
    "\n",
    "# count differentially expressed genes and show first 6\n",
    "\n",
    "print(paste(\"number of 2xFC differentially expressed genes:\",nrow(dge_2xFC_table)))\n",
    "print(paste(\"down regulated:\", nrow(dge_2xFC_table %>% filter(log2FoldChange<=-1))))\n",
    "print(paste(\"up regulated:\", nrow(dge_2xFC_table %>% filter(log2FoldChange>=1))))\n",
    "\n",
    "head(dge_2xFC_table)\n",
    "\n",
    "print(paste(\"number of 3xFC differentially expressed genes:\",nrow(dge_3xFC_table)))\n",
    "head(dge_3xFC_table)"
   ]
  },
  {
   "cell_type": "code",
   "execution_count": 50,
   "metadata": {},
   "outputs": [],
   "source": [
    "# write dge_2xFC_table to new file\n",
    "\n",
    "#write.table(dge_2xFC_table, file = './dge_2xFC_table', sep='\\t',row.names=F)"
   ]
  }
 ],
 "metadata": {
  "kernelspec": {
   "display_name": "R",
   "language": "R",
   "name": "ir"
  },
  "language_info": {
   "codemirror_mode": "r",
   "file_extension": ".r",
   "mimetype": "text/x-r-source",
   "name": "R",
   "pygments_lexer": "r",
   "version": "3.6.1"
  }
 },
 "nbformat": 4,
 "nbformat_minor": 2
}
